{
 "cells": [
  {
   "cell_type": "markdown",
   "metadata": {},
   "source": [
    "## LAB 1 - Section 3\n",
    "\n",
    "### This notebook covers :  \n",
    "<p>Problem 2: Summarizing trending topics about a location</p>"
   ]
  },
  {
   "cell_type": "code",
   "execution_count": 1,
   "metadata": {
    "collapsed": false,
    "scrolled": true
   },
   "outputs": [
    {
     "name": "stderr",
     "output_type": "stream",
     "text": [
      "Loading required package: ggplot2\n"
     ]
    }
   ],
   "source": [
    "library(twitteR)\n",
    "library(stringr)\n",
    "library(ggmap)"
   ]
  },
  {
   "cell_type": "code",
   "execution_count": 2,
   "metadata": {
    "collapsed": false
   },
   "outputs": [
    {
     "name": "stdout",
     "output_type": "stream",
     "text": [
      "[1] \"Using direct authentication\"\n"
     ]
    }
   ],
   "source": [
    "api_key <- \"\" \n",
    "api_secret <- \"\" \n",
    "token <- \"\" \n",
    "token_secret <- \"\"\n",
    "setup_twitter_oauth(api_key, api_secret, token, token_secret)"
   ]
  },
  {
   "cell_type": "markdown",
   "metadata": {},
   "source": [
    "### Specify <em>location</em> <br><br>"
   ]
  },
  {
   "cell_type": "code",
   "execution_count": 3,
   "metadata": {
    "collapsed": true
   },
   "outputs": [],
   "source": [
    "location = \"buffalo\""
   ]
  },
  {
   "cell_type": "markdown",
   "metadata": {},
   "source": [
    "### The location that is specified is fed into <em>geocode</em> to obtain its lon and lat. These are further fed into <em>closestTrendLocations</em>. This is done since many locations do not have the <em> woeid</em> code that is needed for <em>getTrends</em>, <em>closestTrendLocations</em> is used to get the information about the nearest location with the woeid which is eventually fed into <em>getTrends</em>. <br> <br>"
   ]
  },
  {
   "cell_type": "code",
   "execution_count": 4,
   "metadata": {
    "collapsed": false,
    "scrolled": true
   },
   "outputs": [
    {
     "name": "stderr",
     "output_type": "stream",
     "text": [
      "Information from URL : http://maps.googleapis.com/maps/api/geocode/json?address=buffalo&sensor=false\n"
     ]
    }
   ],
   "source": [
    "long_lat_google = geocode(location)"
   ]
  },
  {
   "cell_type": "code",
   "execution_count": 5,
   "metadata": {
    "collapsed": false
   },
   "outputs": [
    {
     "data": {
      "text/html": [
       "<table>\n",
       "<thead><tr><th scope=col>lon</th><th scope=col>lat</th></tr></thead>\n",
       "<tbody>\n",
       "\t<tr><td>-78.87837</td><td>42.88645 </td></tr>\n",
       "</tbody>\n",
       "</table>\n"
      ],
      "text/latex": [
       "\\begin{tabular}{r|ll}\n",
       " lon & lat\\\\\n",
       "\\hline\n",
       "\t -78.87837 & 42.88645 \\\\\n",
       "\\end{tabular}\n"
      ],
      "text/markdown": [
       "\n",
       "lon | lat | \n",
       "|---|\n",
       "| -78.87837 | 42.88645  | \n",
       "\n",
       "\n"
      ],
      "text/plain": [
       "  lon       lat     \n",
       "1 -78.87837 42.88645"
      ]
     },
     "metadata": {},
     "output_type": "display_data"
    }
   ],
   "source": [
    "long_lat_google"
   ]
  },
  {
   "cell_type": "code",
   "execution_count": 6,
   "metadata": {
    "collapsed": false
   },
   "outputs": [],
   "source": [
    "nearest_location = closestTrendLocations(long_lat_google$lat[1] ,long_lat_google$lon[1])#lat and long "
   ]
  },
  {
   "cell_type": "code",
   "execution_count": 7,
   "metadata": {
    "collapsed": false
   },
   "outputs": [
    {
     "data": {
      "text/html": [
       "<table>\n",
       "<thead><tr><th scope=col>name</th><th scope=col>country</th><th scope=col>woeid</th></tr></thead>\n",
       "<tbody>\n",
       "\t<tr><td>Toronto</td><td>Canada </td><td>4118   </td></tr>\n",
       "</tbody>\n",
       "</table>\n"
      ],
      "text/latex": [
       "\\begin{tabular}{r|lll}\n",
       " name & country & woeid\\\\\n",
       "\\hline\n",
       "\t Toronto & Canada  & 4118   \\\\\n",
       "\\end{tabular}\n"
      ],
      "text/markdown": [
       "\n",
       "name | country | woeid | \n",
       "|---|\n",
       "| Toronto | Canada  | 4118    | \n",
       "\n",
       "\n"
      ],
      "text/plain": [
       "  name    country woeid\n",
       "1 Toronto Canada  4118 "
      ]
     },
     "metadata": {},
     "output_type": "display_data"
    }
   ],
   "source": [
    "nearest_location"
   ]
  },
  {
   "cell_type": "code",
   "execution_count": 94,
   "metadata": {
    "collapsed": false,
    "scrolled": true
   },
   "outputs": [],
   "source": [
    "trends = getTrends(nearest_location$woeid[1])"
   ]
  },
  {
   "cell_type": "code",
   "execution_count": 111,
   "metadata": {
    "collapsed": false
   },
   "outputs": [],
   "source": [
    "trends_message <- paste(trends$name[1], trends$name[2], trends$name[3], trends$name[4], trends$name[5],trends$name[6], trends$name[7], trends$name[8], trends$name[9], trends$name[10], sep = \" \")"
   ]
  },
  {
   "cell_type": "code",
   "execution_count": 113,
   "metadata": {
    "collapsed": false
   },
   "outputs": [
    {
     "data": {
      "text/html": [
       "<span style=white-space:pre-wrap>'The top 10 trending messages for -  bijapur  - are :  #NarmadaSevaYatra #NFMS17 Mumbai #Technology #ParSh #Trump Manohar Parrikar Priyanka Gandhi Purposeful Housing Sufi'</span>"
      ],
      "text/latex": [
       "'The top 10 trending messages for -  bijapur  - are :  \\#NarmadaSevaYatra \\#NFMS17 Mumbai \\#Technology \\#ParSh \\#Trump Manohar Parrikar Priyanka Gandhi Purposeful Housing Sufi'"
      ],
      "text/markdown": [
       "<span style=white-space:pre-wrap>'The top 10 trending messages for -  bijapur  - are :  #NarmadaSevaYatra #NFMS17 Mumbai #Technology #ParSh #Trump Manohar Parrikar Priyanka Gandhi Purposeful Housing Sufi'</span>"
      ],
      "text/plain": [
       "[1] \"The top 10 trending messages for -  bijapur  - are :  #NarmadaSevaYatra #NFMS17 Mumbai #Technology #ParSh #Trump Manohar Parrikar Priyanka Gandhi Purposeful Housing Sufi\""
      ]
     },
     "metadata": {},
     "output_type": "display_data"
    }
   ],
   "source": [
    "paste(\"The top 10 trending messages for - \",location,\" - are : \",trends_message)\n"
   ]
  },
  {
   "cell_type": "code",
   "execution_count": null,
   "metadata": {
    "collapsed": true
   },
   "outputs": [],
   "source": []
  }
 ],
 "metadata": {
  "kernelspec": {
   "display_name": "R",
   "language": "R",
   "name": "ir"
  },
  "language_info": {
   "codemirror_mode": "r",
   "file_extension": ".r",
   "mimetype": "text/x-r-source",
   "name": "R",
   "pygments_lexer": "r",
   "version": "3.3.2"
  }
 },
 "nbformat": 4,
 "nbformat_minor": 2
}
