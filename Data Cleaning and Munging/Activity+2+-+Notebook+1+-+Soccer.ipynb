{
 "cells": [
  {
   "cell_type": "markdown",
   "metadata": {},
   "source": [
    "# <p><span style=\"color:blue\">  Activity 2 - Notebook 1 - Soccer data  </span></p>"
   ]
  },
  {
   "cell_type": "markdown",
   "metadata": {},
   "source": [
    "# <p><span style=\"color:blue\">  Procedure followed : <br/> 1. Preprocessed and created Match csv. <br/> 2. Preprocessed and created Player csv. <br/> 3. Imported csv and answered questions. </span></p>"
   ]
  },
  {
   "cell_type": "markdown",
   "metadata": {},
   "source": [
    "# <p><span style=\"color:blue\"> This notebook pre processes data and creates csv</span></p>"
   ]
  },
  {
   "cell_type": "code",
   "execution_count": 2,
   "metadata": {
    "collapsed": false
   },
   "outputs": [],
   "source": [
    "library(dplyr)"
   ]
  },
  {
   "cell_type": "code",
   "execution_count": 3,
   "metadata": {
    "collapsed": true
   },
   "outputs": [],
   "source": [
    "# my_db <- src_sqlite(\"/media/23e97447-9196-4c8e-be28-b24a49d2548e/home/jayaraj/Study/DIC/database.sqlite\")\n",
    "my_db <- src_sqlite(\"./database.sqlite\")"
   ]
  },
  {
   "cell_type": "code",
   "execution_count": 4,
   "metadata": {
    "collapsed": true
   },
   "outputs": [],
   "source": [
    "# my_db #src:  sqlite 3.11.1 [/media/23e97447-9196-4c8e-be28-b24a49d2548e/home/jayaraj/Study/DIC/database.sqlite]\n",
    "# tbls: Country, League, Match, Player, Player_Attributes, sqlite_sequence, Team,\n",
    "#   Team_Attributes"
   ]
  },
  {
   "cell_type": "code",
   "execution_count": 5,
   "metadata": {
    "collapsed": true
   },
   "outputs": [],
   "source": [
    "# country_tbl <- tbl(my_db, sql(\"SELECT * FROM Country\"))\n",
    "# league_tbl <- tbl(my_db, sql(\"SELECT * FROM League\"))\n",
    "match_tbl <- tbl(my_db, sql(\"SELECT * FROM Match\"))\n",
    "player_tbl <- tbl(my_db, sql(\"SELECT * FROM Player\"))\n",
    "player_attr_tbl <- tbl(my_db, sql(\"SELECT * FROM Player_Attributes\"))\n",
    "# sqlite_sequence_tbl <- tbl(my_db, sql(\"SELECT * FROM sqlite_sequence\"))\n",
    "team_tbl <- tbl(my_db, sql(\"SELECT * FROM Team\"))\n",
    "team_Attributes_tbl <- tbl(my_db, sql(\"SELECT * FROM Team_Attributes\"))"
   ]
  },
  {
   "cell_type": "markdown",
   "metadata": {},
   "source": [
    "## <p><span style=\"color:blue\">  Preprocessing team related columns. Once all the columns are ready, csv will be created.  </span></p>"
   ]
  },
  {
   "cell_type": "code",
   "execution_count": 6,
   "metadata": {
    "collapsed": false,
    "scrolled": true
   },
   "outputs": [
    {
     "data": {
      "text/plain": [
       "Source:   query [?? x 5]\n",
       "Database: sqlite 3.11.1 [/media/23e97447-9196-4c8e-be28-b24a49d2548e/home/jayaraj/Study/DIC/database.sqlite]\n",
       "\n",
       "      id team_api_id team_fifa_api_id    team_long_name team_short_name\n",
       "   <int>       <int>            <int>             <chr>           <chr>\n",
       "1      1        9987              673          KRC Genk             GEN\n",
       "2      2        9993              675      Beerschot AC             BAC\n",
       "3      3       10000            15005  SV Zulte-Waregem             ZUL\n",
       "4      4        9994             2007  Sporting Lokeren             LOK\n",
       "5      5        9984             1750 KSV Cercle Brugge             CEB\n",
       "6      6        8635              229    RSC Anderlecht             AND\n",
       "7      7        9991              674          KAA Gent             GEN\n",
       "8      8        9998             1747         RAEC Mons             MON\n",
       "9      9        7947               NA     FCV Dender EH             DEN\n",
       "10    10        9985              232 Standard de Liège             STL\n",
       "# ... with more rows"
      ]
     },
     "metadata": {},
     "output_type": "display_data"
    },
    {
     "data": {
      "text/html": [
       "299"
      ],
      "text/latex": [
       "299"
      ],
      "text/markdown": [
       "299"
      ],
      "text/plain": [
       "[1] 299"
      ]
     },
     "metadata": {},
     "output_type": "display_data"
    },
    {
     "data": {
      "text/plain": [
       "Source:   query [?? x 25]\n",
       "Database: sqlite 3.11.1 [/media/23e97447-9196-4c8e-be28-b24a49d2548e/home/jayaraj/Study/DIC/database.sqlite]\n",
       "\n",
       "      id team_fifa_api_id team_api_id                date buildUpPlaySpeed\n",
       "   <int>            <int>       <int>               <chr>            <int>\n",
       "1      1              434        9930 2010-02-22 00:00:00               60\n",
       "2      2              434        9930 2014-09-19 00:00:00               52\n",
       "3      3              434        9930 2015-09-10 00:00:00               47\n",
       "4      4               77        8485 2010-02-22 00:00:00               70\n",
       "5      5               77        8485 2011-02-22 00:00:00               47\n",
       "6      6               77        8485 2012-02-22 00:00:00               58\n",
       "7      7               77        8485 2013-09-20 00:00:00               62\n",
       "8      8               77        8485 2014-09-19 00:00:00               58\n",
       "9      9               77        8485 2015-09-10 00:00:00               59\n",
       "10    10              614        8576 2010-02-22 00:00:00               60\n",
       "# ... with more rows, and 20 more variables: buildUpPlaySpeedClass <chr>,\n",
       "#   buildUpPlayDribbling <int>, buildUpPlayDribblingClass <chr>,\n",
       "#   buildUpPlayPassing <int>, buildUpPlayPassingClass <chr>,\n",
       "#   buildUpPlayPositioningClass <chr>, chanceCreationPassing <int>,\n",
       "#   chanceCreationPassingClass <chr>, chanceCreationCrossing <int>,\n",
       "#   chanceCreationCrossingClass <chr>, chanceCreationShooting <int>,\n",
       "#   chanceCreationShootingClass <chr>, chanceCreationPositioningClass <chr>,\n",
       "#   defencePressure <int>, defencePressureClass <chr>, defenceAggression <int>,\n",
       "#   defenceAggressionClass <chr>, defenceTeamWidth <int>,\n",
       "#   defenceTeamWidthClass <chr>, defenceDefenderLineClass <chr>"
      ]
     },
     "metadata": {},
     "output_type": "display_data"
    },
    {
     "data": {
      "text/html": [
       "1458"
      ],
      "text/latex": [
       "1458"
      ],
      "text/markdown": [
       "1458"
      ],
      "text/plain": [
       "[1] 1458"
      ]
     },
     "metadata": {},
     "output_type": "display_data"
    }
   ],
   "source": [
    "team_tbl\n",
    "nrow(data.frame(team_tbl))\n",
    "team_Attributes_tbl\n",
    "nrow(data.frame(team_Attributes_tbl))"
   ]
  },
  {
   "cell_type": "code",
   "execution_count": 7,
   "metadata": {
    "collapsed": false
   },
   "outputs": [
    {
     "data": {
      "text/html": [
       "299"
      ],
      "text/latex": [
       "299"
      ],
      "text/markdown": [
       "299"
      ],
      "text/plain": [
       "[1] 299"
      ]
     },
     "metadata": {},
     "output_type": "display_data"
    }
   ],
   "source": [
    "temp <- tbl(my_db,sql(\"SELECT Team.team_api_id\n",
    "from Team LEFT JOIN Team_Attributes ON Team_Attributes.team_api_id = Team.team_api_id GROUP BY Team.team_api_id\"))\n",
    "nrow(data.frame(temp))"
   ]
  },
  {
   "cell_type": "code",
   "execution_count": 8,
   "metadata": {
    "collapsed": true
   },
   "outputs": [],
   "source": [
    "#team attributes with sum of build up, chance creation and defence. \n",
    "team_attr_with_sum <- tbl(my_db, sql(\"SELECT Team.team_api_id,team_long_name,MAX(buildUpPlaySpeed+buildUpPlayPassing+buildUpPlayDribbling) as sum_buildup,\n",
    "MAX(chanceCreationPassing+chanceCreationCrossing+chanceCreationShooting) as sum_chance_creation,\n",
    "MAX(defencePressure+defenceAggression+defenceTeamWidth) as sum_defence\n",
    "FROM Team LEFT JOIN Team_Attributes ON Team_Attributes.team_api_id = Team.team_api_id GROUP BY Team.team_api_id,team_short_name \"))\n"
   ]
  },
  {
   "cell_type": "code",
   "execution_count": 9,
   "metadata": {
    "collapsed": true
   },
   "outputs": [],
   "source": [
    "team_with_match_goals <- tbl(my_db,sql(\"select team_api_id, sum(goals) as sum_goals from (select Team.team_api_id,home_team_goal as goals from Team INNER JOIN\n",
    "Match ON Team.team_api_id=home_team_api_id UNION ALL select Team.team_api_id,away_team_goal as goals from Team LEFT JOIN\n",
    "Match ON Team.team_api_id=away_team_api_id) GROUP BY team_api_id\"))"
   ]
  },
  {
   "cell_type": "code",
   "execution_count": 10,
   "metadata": {
    "collapsed": false,
    "scrolled": true
   },
   "outputs": [
    {
     "data": {
      "text/plain": [
       "Source:   query [?? x 2]\n",
       "Database: sqlite 3.11.1 [/media/23e97447-9196-4c8e-be28-b24a49d2548e/home/jayaraj/Study/DIC/database.sqlite]\n",
       "\n",
       "   team_api_id sum_goals\n",
       "         <int>     <int>\n",
       "1         1601       280\n",
       "2         1773       126\n",
       "3         1957       287\n",
       "4         2033       138\n",
       "5         2182       372\n",
       "6         2183       184\n",
       "7         2186       235\n",
       "8         4049        35\n",
       "9         4064        27\n",
       "10        4087       180\n",
       "# ... with more rows"
      ]
     },
     "metadata": {},
     "output_type": "display_data"
    },
    {
     "data": {
      "text/html": [
       "299"
      ],
      "text/latex": [
       "299"
      ],
      "text/markdown": [
       "299"
      ],
      "text/plain": [
       "[1] 299"
      ]
     },
     "metadata": {},
     "output_type": "display_data"
    },
    {
     "data": {
      "text/plain": [
       "Source:   query [?? x 5]\n",
       "Database: sqlite 3.11.1 [/media/23e97447-9196-4c8e-be28-b24a49d2548e/home/jayaraj/Study/DIC/database.sqlite]\n",
       "\n",
       "   team_api_id           team_long_name sum_buildup sum_chance_creation\n",
       "         <int>                    <chr>       <int>               <int>\n",
       "1         1601             Ruch Chorzów         139                 186\n",
       "2         1773      Oud-Heverlee Leuven         153                 157\n",
       "3         1957    Jagiellonia Białystok         158                 163\n",
       "4         2033           S.C. Olhanense         147                 165\n",
       "5         2182              Lech Poznań         176                 196\n",
       "6         2183              P. Warszawa          NA                 180\n",
       "7         2186                 Cracovia         125                 168\n",
       "8         4049                   Tubize          NA                  NA\n",
       "9         4064                 Feirense          NA                  NA\n",
       "10        4087 Évian Thonon Gaillard FC         156                 180\n",
       "# ... with more rows, and 1 more variables: sum_defence <int>"
      ]
     },
     "metadata": {},
     "output_type": "display_data"
    },
    {
     "data": {
      "text/html": [
       "299"
      ],
      "text/latex": [
       "299"
      ],
      "text/markdown": [
       "299"
      ],
      "text/plain": [
       "[1] 299"
      ]
     },
     "metadata": {},
     "output_type": "display_data"
    }
   ],
   "source": [
    "team_with_match_goals\n",
    "nrow(data.frame(team_with_match_goals))\n",
    "team_attr_with_sum\n",
    "nrow(data.frame(team_attr_with_sum))"
   ]
  },
  {
   "cell_type": "markdown",
   "metadata": {},
   "source": [
    "###  <p><span style=\"color:blue\">team_all_final table/df has all the columns needed for answering the questions. It will be written to csv.</span></p>"
   ]
  },
  {
   "cell_type": "code",
   "execution_count": 11,
   "metadata": {
    "collapsed": false
   },
   "outputs": [
    {
     "data": {
      "text/html": [
       "<table>\n",
       "<thead><tr><th scope=col>team_api_id</th><th scope=col>team_long_name</th><th scope=col>sum_buildup</th><th scope=col>sum_chance_creation</th><th scope=col>sum_defence</th><th scope=col>sum_goals</th></tr></thead>\n",
       "<tbody>\n",
       "\t<tr><td>1601                    </td><td>Ruch Chorzów            </td><td>139                     </td><td>186                     </td><td>175                     </td><td>280                     </td></tr>\n",
       "\t<tr><td>1773                    </td><td>Oud-Heverlee Leuven     </td><td>153                     </td><td>157                     </td><td>137                     </td><td>126                     </td></tr>\n",
       "\t<tr><td>1957                    </td><td>Jagiellonia Białystok   </td><td>158                     </td><td>163                     </td><td>210                     </td><td>287                     </td></tr>\n",
       "\t<tr><td>2033                    </td><td>S.C. Olhanense          </td><td>147                     </td><td>165                     </td><td>155                     </td><td>138                     </td></tr>\n",
       "\t<tr><td>2182                    </td><td>Lech Poznań             </td><td>176                     </td><td>196                     </td><td>160                     </td><td>372                     </td></tr>\n",
       "\t<tr><td>2183                    </td><td>P. Warszawa             </td><td> NA                     </td><td>180                     </td><td>175                     </td><td>184                     </td></tr>\n",
       "\t<tr><td>2186                    </td><td>Cracovia                </td><td>125                     </td><td>168                     </td><td>205                     </td><td>235                     </td></tr>\n",
       "\t<tr><td>4049                    </td><td>Tubize                  </td><td> NA                     </td><td> NA                     </td><td> NA                     </td><td> 35                     </td></tr>\n",
       "\t<tr><td>4064                    </td><td>Feirense                </td><td> NA                     </td><td> NA                     </td><td> NA                     </td><td> 27                     </td></tr>\n",
       "\t<tr><td>4087                    </td><td>Évian Thonon Gaillard FC</td><td>156                     </td><td>180                     </td><td>165                     </td><td>180                     </td></tr>\n",
       "\t<tr><td>4170                    </td><td>US Boulogne Cote D'Opale</td><td> NA                     </td><td>165                     </td><td>200                     </td><td> 31                     </td></tr>\n",
       "\t<tr><td>6269                    </td><td>Novara                  </td><td>179                     </td><td>172                     </td><td>151                     </td><td> 34                     </td></tr>\n",
       "\t<tr><td>6351                    </td><td>KAS Eupen               </td><td> NA                     </td><td>160                     </td><td>155                     </td><td> 28                     </td></tr>\n",
       "\t<tr><td>6367                    </td><td>Uniao da Madeira        </td><td> NA                     </td><td> NA                     </td><td> NA                     </td><td> 27                     </td></tr>\n",
       "\t<tr><td>6391                    </td><td>GFC Ajaccio             </td><td>153                     </td><td>179                     </td><td>146                     </td><td> 37                     </td></tr>\n",
       "\t<tr><td>6403                    </td><td>FC Paços de Ferreira    </td><td>142                     </td><td>170                     </td><td>150                     </td><td>292                     </td></tr>\n",
       "\t<tr><td>6413                    </td><td>PEC Zwolle              </td><td>137                     </td><td>165                     </td><td>181                     </td><td>204                     </td></tr>\n",
       "\t<tr><td>6421                    </td><td>Leixões SC              </td><td> NA                     </td><td>165                     </td><td> 90                     </td><td> 55                     </td></tr>\n",
       "\t<tr><td>6433                    </td><td>Go Ahead Eagles         </td><td>160                     </td><td>132                     </td><td>141                     </td><td> 74                     </td></tr>\n",
       "\t<tr><td>6493                    </td><td>AC Bellinzona           </td><td> NA                     </td><td>175                     </td><td>150                     </td><td>128                     </td></tr>\n",
       "\t<tr><td>6547                    </td><td>FC Penafiel             </td><td>147                     </td><td>146                     </td><td>121                     </td><td> 29                     </td></tr>\n",
       "\t<tr><td>6601                    </td><td>FC Volendam             </td><td> NA                     </td><td> NA                     </td><td> NA                     </td><td> 38                     </td></tr>\n",
       "\t<tr><td>6631                    </td><td>FC Dordrecht            </td><td>134                     </td><td>176                     </td><td>164                     </td><td> 24                     </td></tr>\n",
       "\t<tr><td>7730                    </td><td>FC Lausanne-Sports      </td><td>141                     </td><td>164                     </td><td>165                     </td><td> 99                     </td></tr>\n",
       "\t<tr><td>7788                    </td><td>SC Cambuur              </td><td>136                     </td><td>159                     </td><td>138                     </td><td>119                     </td></tr>\n",
       "\t<tr><td>7794                    </td><td>SC Bastia               </td><td>174                     </td><td>156                     </td><td>210                     </td><td>165                     </td></tr>\n",
       "\t<tr><td>7819                    </td><td>SM Caen                 </td><td>157                     </td><td>165                     </td><td>205                     </td><td>220                     </td></tr>\n",
       "\t<tr><td>7841                    </td><td>Rio Ave FC              </td><td>157                     </td><td>180                     </td><td>153                     </td><td>248                     </td></tr>\n",
       "\t<tr><td>7842                    </td><td>Estoril Praia           </td><td>174                     </td><td>139                     </td><td>150                     </td><td>167                     </td></tr>\n",
       "\t<tr><td>7844                    </td><td>Vitória Guimarães       </td><td>131                     </td><td>179                     </td><td>177                     </td><td>300                     </td></tr>\n",
       "\t<tr><td>⋮</td><td>⋮</td><td>⋮</td><td>⋮</td><td>⋮</td><td>⋮</td></tr>\n",
       "\t<tr><td> 10214                      </td><td>CD Nacional                 </td><td>167                         </td><td>165                         </td><td>156                         </td><td>332                         </td></tr>\n",
       "\t<tr><td> 10215                      </td><td>Académica de Coimbra        </td><td>150                         </td><td>172                         </td><td>151                         </td><td>240                         </td></tr>\n",
       "\t<tr><td> 10217                      </td><td>ADO Den Haag                </td><td>162                         </td><td>181                         </td><td>173                         </td><td>366                         </td></tr>\n",
       "\t<tr><td> 10218                      </td><td>Excelsior                   </td><td>163                         </td><td>162                         </td><td>106                         </td><td>154                         </td></tr>\n",
       "\t<tr><td> 10219                      </td><td>RKC Waalwijk                </td><td>142                         </td><td>159                         </td><td>150                         </td><td>153                         </td></tr>\n",
       "\t<tr><td> 10228                      </td><td>SC Heerenveen               </td><td>150                         </td><td>171                         </td><td>183                         </td><td>470                         </td></tr>\n",
       "\t<tr><td> 10229                      </td><td>AZ                          </td><td>154                         </td><td>185                         </td><td>184                         </td><td>492                         </td></tr>\n",
       "\t<tr><td> 10233                      </td><td>Genoa                       </td><td>184                         </td><td>182                         </td><td>154                         </td><td>392                         </td></tr>\n",
       "\t<tr><td> 10235                      </td><td>Feyenoord                   </td><td>154                         </td><td>165                         </td><td>160                         </td><td>489                         </td></tr>\n",
       "\t<tr><td> 10238                      </td><td>Vitória Setúbal             </td><td>149                         </td><td>165                         </td><td>140                         </td><td>238                         </td></tr>\n",
       "\t<tr><td> 10242                      </td><td>ES Troyes AC                </td><td>148                         </td><td>150                         </td><td>140                         </td><td> 71                         </td></tr>\n",
       "\t<tr><td> 10243                      </td><td>FC Zürich                   </td><td>157                         </td><td>165                         </td><td>163                         </td><td>468                         </td></tr>\n",
       "\t<tr><td> 10249                      </td><td>Montpellier Hérault SC      </td><td>162                         </td><td>160                         </td><td>210                         </td><td>344                         </td></tr>\n",
       "\t<tr><td> 10251                      </td><td>Hibernian                   </td><td>148                         </td><td>200                         </td><td>200                         </td><td>259                         </td></tr>\n",
       "\t<tr><td> 10252                      </td><td>Aston Villa                 </td><td>170                         </td><td>185                         </td><td>145                         </td><td>335                         </td></tr>\n",
       "\t<tr><td> 10260                      </td><td>Manchester United           </td><td>134                         </td><td>200                         </td><td>163                         </td><td>582                         </td></tr>\n",
       "\t<tr><td> 10261                      </td><td>Newcastle United            </td><td>152                         </td><td>195                         </td><td>161                         </td><td>324                         </td></tr>\n",
       "\t<tr><td> 10264                      </td><td>SC Braga                    </td><td>145                         </td><td>166                         </td><td>150                         </td><td>398                         </td></tr>\n",
       "\t<tr><td> 10265                      </td><td>Wisła Kraków                </td><td>135                         </td><td>183                         </td><td>205                         </td><td>332                         </td></tr>\n",
       "\t<tr><td> 10267                      </td><td>Valencia CF                 </td><td>116                         </td><td>185                         </td><td>175                         </td><td>484                         </td></tr>\n",
       "\t<tr><td> 10268                      </td><td>Elche CF                    </td><td>171                         </td><td>165                         </td><td>158                         </td><td> 65                         </td></tr>\n",
       "\t<tr><td> 10269                      </td><td>VfB Stuttgart               </td><td>168                         </td><td>200                         </td><td>175                         </td><td>415                         </td></tr>\n",
       "\t<tr><td> 10278                      </td><td>Hércules Club de Fútbol     </td><td>154                         </td><td>178                         </td><td>160                         </td><td> 36                         </td></tr>\n",
       "\t<tr><td> 10281                      </td><td>Real Valladolid             </td><td>153                         </td><td>172                         </td><td>161                         </td><td>170                         </td></tr>\n",
       "\t<tr><td>108893                      </td><td>AC Arles-Avignon            </td><td>156                         </td><td>141                         </td><td>158                         </td><td> 21                         </td></tr>\n",
       "\t<tr><td>158085                      </td><td>FC Arouca                   </td><td>174                         </td><td>160                         </td><td>113                         </td><td>101                         </td></tr>\n",
       "\t<tr><td>177361                      </td><td>Termalica Bruk-Bet Nieciecza</td><td> NA                         </td><td> NA                         </td><td> NA                         </td><td> 33                         </td></tr>\n",
       "\t<tr><td>188163                      </td><td>Tondela                     </td><td> NA                         </td><td> NA                         </td><td> NA                         </td><td> 34                         </td></tr>\n",
       "\t<tr><td>208931                      </td><td>Carpi                       </td><td>190                         </td><td>160                         </td><td>141                         </td><td> 37                         </td></tr>\n",
       "\t<tr><td>274581                      </td><td>Royal Excel Mouscron        </td><td>150                         </td><td>150                         </td><td>140                         </td><td> 71                         </td></tr>\n",
       "</tbody>\n",
       "</table>\n"
      ],
      "text/latex": [
       "\\begin{tabular}{r|llllll}\n",
       " team\\_api\\_id & team\\_long\\_name & sum\\_buildup & sum\\_chance\\_creation & sum\\_defence & sum\\_goals\\\\\n",
       "\\hline\n",
       "\t 1601                     & Ruch Chorzów             & 139                      & 186                      & 175                      & 280                     \\\\\n",
       "\t 1773                     & Oud-Heverlee Leuven      & 153                      & 157                      & 137                      & 126                     \\\\\n",
       "\t 1957                     & Jagiellonia Białystok    & 158                      & 163                      & 210                      & 287                     \\\\\n",
       "\t 2033                     & S.C. Olhanense           & 147                      & 165                      & 155                      & 138                     \\\\\n",
       "\t 2182                     & Lech Poznań              & 176                      & 196                      & 160                      & 372                     \\\\\n",
       "\t 2183                     & P. Warszawa              &  NA                      & 180                      & 175                      & 184                     \\\\\n",
       "\t 2186                     & Cracovia                 & 125                      & 168                      & 205                      & 235                     \\\\\n",
       "\t 4049                     & Tubize                   &  NA                      &  NA                      &  NA                      &  35                     \\\\\n",
       "\t 4064                     & Feirense                 &  NA                      &  NA                      &  NA                      &  27                     \\\\\n",
       "\t 4087                     & Évian Thonon Gaillard FC & 156                      & 180                      & 165                      & 180                     \\\\\n",
       "\t 4170                     & US Boulogne Cote D'Opale &  NA                      & 165                      & 200                      &  31                     \\\\\n",
       "\t 6269                     & Novara                   & 179                      & 172                      & 151                      &  34                     \\\\\n",
       "\t 6351                     & KAS Eupen                &  NA                      & 160                      & 155                      &  28                     \\\\\n",
       "\t 6367                     & Uniao da Madeira         &  NA                      &  NA                      &  NA                      &  27                     \\\\\n",
       "\t 6391                     & GFC Ajaccio              & 153                      & 179                      & 146                      &  37                     \\\\\n",
       "\t 6403                     & FC Paços de Ferreira     & 142                      & 170                      & 150                      & 292                     \\\\\n",
       "\t 6413                     & PEC Zwolle               & 137                      & 165                      & 181                      & 204                     \\\\\n",
       "\t 6421                     & Leixões SC               &  NA                      & 165                      &  90                      &  55                     \\\\\n",
       "\t 6433                     & Go Ahead Eagles          & 160                      & 132                      & 141                      &  74                     \\\\\n",
       "\t 6493                     & AC Bellinzona            &  NA                      & 175                      & 150                      & 128                     \\\\\n",
       "\t 6547                     & FC Penafiel              & 147                      & 146                      & 121                      &  29                     \\\\\n",
       "\t 6601                     & FC Volendam              &  NA                      &  NA                      &  NA                      &  38                     \\\\\n",
       "\t 6631                     & FC Dordrecht             & 134                      & 176                      & 164                      &  24                     \\\\\n",
       "\t 7730                     & FC Lausanne-Sports       & 141                      & 164                      & 165                      &  99                     \\\\\n",
       "\t 7788                     & SC Cambuur               & 136                      & 159                      & 138                      & 119                     \\\\\n",
       "\t 7794                     & SC Bastia                & 174                      & 156                      & 210                      & 165                     \\\\\n",
       "\t 7819                     & SM Caen                  & 157                      & 165                      & 205                      & 220                     \\\\\n",
       "\t 7841                     & Rio Ave FC               & 157                      & 180                      & 153                      & 248                     \\\\\n",
       "\t 7842                     & Estoril Praia            & 174                      & 139                      & 150                      & 167                     \\\\\n",
       "\t 7844                     & Vitória Guimarães        & 131                      & 179                      & 177                      & 300                     \\\\\n",
       "\t ⋮ & ⋮ & ⋮ & ⋮ & ⋮ & ⋮\\\\\n",
       "\t  10214                       & CD Nacional                  & 167                          & 165                          & 156                          & 332                         \\\\\n",
       "\t  10215                       & Académica de Coimbra         & 150                          & 172                          & 151                          & 240                         \\\\\n",
       "\t  10217                       & ADO Den Haag                 & 162                          & 181                          & 173                          & 366                         \\\\\n",
       "\t  10218                       & Excelsior                    & 163                          & 162                          & 106                          & 154                         \\\\\n",
       "\t  10219                       & RKC Waalwijk                 & 142                          & 159                          & 150                          & 153                         \\\\\n",
       "\t  10228                       & SC Heerenveen                & 150                          & 171                          & 183                          & 470                         \\\\\n",
       "\t  10229                       & AZ                           & 154                          & 185                          & 184                          & 492                         \\\\\n",
       "\t  10233                       & Genoa                        & 184                          & 182                          & 154                          & 392                         \\\\\n",
       "\t  10235                       & Feyenoord                    & 154                          & 165                          & 160                          & 489                         \\\\\n",
       "\t  10238                       & Vitória Setúbal              & 149                          & 165                          & 140                          & 238                         \\\\\n",
       "\t  10242                       & ES Troyes AC                 & 148                          & 150                          & 140                          &  71                         \\\\\n",
       "\t  10243                       & FC Zürich                    & 157                          & 165                          & 163                          & 468                         \\\\\n",
       "\t  10249                       & Montpellier Hérault SC       & 162                          & 160                          & 210                          & 344                         \\\\\n",
       "\t  10251                       & Hibernian                    & 148                          & 200                          & 200                          & 259                         \\\\\n",
       "\t  10252                       & Aston Villa                  & 170                          & 185                          & 145                          & 335                         \\\\\n",
       "\t  10260                       & Manchester United            & 134                          & 200                          & 163                          & 582                         \\\\\n",
       "\t  10261                       & Newcastle United             & 152                          & 195                          & 161                          & 324                         \\\\\n",
       "\t  10264                       & SC Braga                     & 145                          & 166                          & 150                          & 398                         \\\\\n",
       "\t  10265                       & Wisła Kraków                 & 135                          & 183                          & 205                          & 332                         \\\\\n",
       "\t  10267                       & Valencia CF                  & 116                          & 185                          & 175                          & 484                         \\\\\n",
       "\t  10268                       & Elche CF                     & 171                          & 165                          & 158                          &  65                         \\\\\n",
       "\t  10269                       & VfB Stuttgart                & 168                          & 200                          & 175                          & 415                         \\\\\n",
       "\t  10278                       & Hércules Club de Fútbol      & 154                          & 178                          & 160                          &  36                         \\\\\n",
       "\t  10281                       & Real Valladolid              & 153                          & 172                          & 161                          & 170                         \\\\\n",
       "\t 108893                       & AC Arles-Avignon             & 156                          & 141                          & 158                          &  21                         \\\\\n",
       "\t 158085                       & FC Arouca                    & 174                          & 160                          & 113                          & 101                         \\\\\n",
       "\t 177361                       & Termalica Bruk-Bet Nieciecza &  NA                          &  NA                          &  NA                          &  33                         \\\\\n",
       "\t 188163                       & Tondela                      &  NA                          &  NA                          &  NA                          &  34                         \\\\\n",
       "\t 208931                       & Carpi                        & 190                          & 160                          & 141                          &  37                         \\\\\n",
       "\t 274581                       & Royal Excel Mouscron         & 150                          & 150                          & 140                          &  71                         \\\\\n",
       "\\end{tabular}\n"
      ],
      "text/markdown": [
       "\n",
       "team_api_id | team_long_name | sum_buildup | sum_chance_creation | sum_defence | sum_goals | \n",
       "|---|---|---|---|---|---|---|---|---|---|---|---|---|---|---|---|---|---|---|---|---|---|---|---|---|---|---|---|---|---|---|---|---|---|---|---|---|---|---|---|---|---|---|---|---|---|---|---|---|---|---|---|---|---|---|---|---|---|---|---|---|\n",
       "| 1601                     | Ruch Chorzów             | 139                      | 186                      | 175                      | 280                      | \n",
       "| 1773                     | Oud-Heverlee Leuven      | 153                      | 157                      | 137                      | 126                      | \n",
       "| 1957                     | Jagiellonia Białystok    | 158                      | 163                      | 210                      | 287                      | \n",
       "| 2033                     | S.C. Olhanense           | 147                      | 165                      | 155                      | 138                      | \n",
       "| 2182                     | Lech Poznań              | 176                      | 196                      | 160                      | 372                      | \n",
       "| 2183                     | P. Warszawa              |  NA                      | 180                      | 175                      | 184                      | \n",
       "| 2186                     | Cracovia                 | 125                      | 168                      | 205                      | 235                      | \n",
       "| 4049                     | Tubize                   |  NA                      |  NA                      |  NA                      |  35                      | \n",
       "| 4064                     | Feirense                 |  NA                      |  NA                      |  NA                      |  27                      | \n",
       "| 4087                     | Évian Thonon Gaillard FC | 156                      | 180                      | 165                      | 180                      | \n",
       "| 4170                     | US Boulogne Cote D'Opale |  NA                      | 165                      | 200                      |  31                      | \n",
       "| 6269                     | Novara                   | 179                      | 172                      | 151                      |  34                      | \n",
       "| 6351                     | KAS Eupen                |  NA                      | 160                      | 155                      |  28                      | \n",
       "| 6367                     | Uniao da Madeira         |  NA                      |  NA                      |  NA                      |  27                      | \n",
       "| 6391                     | GFC Ajaccio              | 153                      | 179                      | 146                      |  37                      | \n",
       "| 6403                     | FC Paços de Ferreira     | 142                      | 170                      | 150                      | 292                      | \n",
       "| 6413                     | PEC Zwolle               | 137                      | 165                      | 181                      | 204                      | \n",
       "| 6421                     | Leixões SC               |  NA                      | 165                      |  90                      |  55                      | \n",
       "| 6433                     | Go Ahead Eagles          | 160                      | 132                      | 141                      |  74                      | \n",
       "| 6493                     | AC Bellinzona            |  NA                      | 175                      | 150                      | 128                      | \n",
       "| 6547                     | FC Penafiel              | 147                      | 146                      | 121                      |  29                      | \n",
       "| 6601                     | FC Volendam              |  NA                      |  NA                      |  NA                      |  38                      | \n",
       "| 6631                     | FC Dordrecht             | 134                      | 176                      | 164                      |  24                      | \n",
       "| 7730                     | FC Lausanne-Sports       | 141                      | 164                      | 165                      |  99                      | \n",
       "| 7788                     | SC Cambuur               | 136                      | 159                      | 138                      | 119                      | \n",
       "| 7794                     | SC Bastia                | 174                      | 156                      | 210                      | 165                      | \n",
       "| 7819                     | SM Caen                  | 157                      | 165                      | 205                      | 220                      | \n",
       "| 7841                     | Rio Ave FC               | 157                      | 180                      | 153                      | 248                      | \n",
       "| 7842                     | Estoril Praia            | 174                      | 139                      | 150                      | 167                      | \n",
       "| 7844                     | Vitória Guimarães        | 131                      | 179                      | 177                      | 300                      | \n",
       "| ⋮ | ⋮ | ⋮ | ⋮ | ⋮ | ⋮ | \n",
       "|  10214                       | CD Nacional                  | 167                          | 165                          | 156                          | 332                          | \n",
       "|  10215                       | Académica de Coimbra         | 150                          | 172                          | 151                          | 240                          | \n",
       "|  10217                       | ADO Den Haag                 | 162                          | 181                          | 173                          | 366                          | \n",
       "|  10218                       | Excelsior                    | 163                          | 162                          | 106                          | 154                          | \n",
       "|  10219                       | RKC Waalwijk                 | 142                          | 159                          | 150                          | 153                          | \n",
       "|  10228                       | SC Heerenveen                | 150                          | 171                          | 183                          | 470                          | \n",
       "|  10229                       | AZ                           | 154                          | 185                          | 184                          | 492                          | \n",
       "|  10233                       | Genoa                        | 184                          | 182                          | 154                          | 392                          | \n",
       "|  10235                       | Feyenoord                    | 154                          | 165                          | 160                          | 489                          | \n",
       "|  10238                       | Vitória Setúbal              | 149                          | 165                          | 140                          | 238                          | \n",
       "|  10242                       | ES Troyes AC                 | 148                          | 150                          | 140                          |  71                          | \n",
       "|  10243                       | FC Zürich                    | 157                          | 165                          | 163                          | 468                          | \n",
       "|  10249                       | Montpellier Hérault SC       | 162                          | 160                          | 210                          | 344                          | \n",
       "|  10251                       | Hibernian                    | 148                          | 200                          | 200                          | 259                          | \n",
       "|  10252                       | Aston Villa                  | 170                          | 185                          | 145                          | 335                          | \n",
       "|  10260                       | Manchester United            | 134                          | 200                          | 163                          | 582                          | \n",
       "|  10261                       | Newcastle United             | 152                          | 195                          | 161                          | 324                          | \n",
       "|  10264                       | SC Braga                     | 145                          | 166                          | 150                          | 398                          | \n",
       "|  10265                       | Wisła Kraków                 | 135                          | 183                          | 205                          | 332                          | \n",
       "|  10267                       | Valencia CF                  | 116                          | 185                          | 175                          | 484                          | \n",
       "|  10268                       | Elche CF                     | 171                          | 165                          | 158                          |  65                          | \n",
       "|  10269                       | VfB Stuttgart                | 168                          | 200                          | 175                          | 415                          | \n",
       "|  10278                       | Hércules Club de Fútbol      | 154                          | 178                          | 160                          |  36                          | \n",
       "|  10281                       | Real Valladolid              | 153                          | 172                          | 161                          | 170                          | \n",
       "| 108893                       | AC Arles-Avignon             | 156                          | 141                          | 158                          |  21                          | \n",
       "| 158085                       | FC Arouca                    | 174                          | 160                          | 113                          | 101                          | \n",
       "| 177361                       | Termalica Bruk-Bet Nieciecza |  NA                          |  NA                          |  NA                          |  33                          | \n",
       "| 188163                       | Tondela                      |  NA                          |  NA                          |  NA                          |  34                          | \n",
       "| 208931                       | Carpi                        | 190                          | 160                          | 141                          |  37                          | \n",
       "| 274581                       | Royal Excel Mouscron         | 150                          | 150                          | 140                          |  71                          | \n",
       "\n",
       "\n"
      ],
      "text/plain": [
       "    team_api_id team_long_name               sum_buildup sum_chance_creation\n",
       "1   1601        Ruch Chorzów                 139         186                \n",
       "2   1773        Oud-Heverlee Leuven          153         157                \n",
       "3   1957        Jagiellonia Białystok        158         163                \n",
       "4   2033        S.C. Olhanense               147         165                \n",
       "5   2182        Lech Poznań                  176         196                \n",
       "6   2183        P. Warszawa                   NA         180                \n",
       "7   2186        Cracovia                     125         168                \n",
       "8   4049        Tubize                        NA          NA                \n",
       "9   4064        Feirense                      NA          NA                \n",
       "10  4087        Évian Thonon Gaillard FC     156         180                \n",
       "11  4170        US Boulogne Cote D'Opale      NA         165                \n",
       "12  6269        Novara                       179         172                \n",
       "13  6351        KAS Eupen                     NA         160                \n",
       "14  6367        Uniao da Madeira              NA          NA                \n",
       "15  6391        GFC Ajaccio                  153         179                \n",
       "16  6403        FC Paços de Ferreira         142         170                \n",
       "17  6413        PEC Zwolle                   137         165                \n",
       "18  6421        Leixões SC                    NA         165                \n",
       "19  6433        Go Ahead Eagles              160         132                \n",
       "20  6493        AC Bellinzona                 NA         175                \n",
       "21  6547        FC Penafiel                  147         146                \n",
       "22  6601        FC Volendam                   NA          NA                \n",
       "23  6631        FC Dordrecht                 134         176                \n",
       "24  7730        FC Lausanne-Sports           141         164                \n",
       "25  7788        SC Cambuur                   136         159                \n",
       "26  7794        SC Bastia                    174         156                \n",
       "27  7819        SM Caen                      157         165                \n",
       "28  7841        Rio Ave FC                   157         180                \n",
       "29  7842        Estoril Praia                174         139                \n",
       "30  7844        Vitória Guimarães            131         179                \n",
       "⋮   ⋮           ⋮                            ⋮           ⋮                  \n",
       "270  10214      CD Nacional                  167         165                \n",
       "271  10215      Académica de Coimbra         150         172                \n",
       "272  10217      ADO Den Haag                 162         181                \n",
       "273  10218      Excelsior                    163         162                \n",
       "274  10219      RKC Waalwijk                 142         159                \n",
       "275  10228      SC Heerenveen                150         171                \n",
       "276  10229      AZ                           154         185                \n",
       "277  10233      Genoa                        184         182                \n",
       "278  10235      Feyenoord                    154         165                \n",
       "279  10238      Vitória Setúbal              149         165                \n",
       "280  10242      ES Troyes AC                 148         150                \n",
       "281  10243      FC Zürich                    157         165                \n",
       "282  10249      Montpellier Hérault SC       162         160                \n",
       "283  10251      Hibernian                    148         200                \n",
       "284  10252      Aston Villa                  170         185                \n",
       "285  10260      Manchester United            134         200                \n",
       "286  10261      Newcastle United             152         195                \n",
       "287  10264      SC Braga                     145         166                \n",
       "288  10265      Wisła Kraków                 135         183                \n",
       "289  10267      Valencia CF                  116         185                \n",
       "290  10268      Elche CF                     171         165                \n",
       "291  10269      VfB Stuttgart                168         200                \n",
       "292  10278      Hércules Club de Fútbol      154         178                \n",
       "293  10281      Real Valladolid              153         172                \n",
       "294 108893      AC Arles-Avignon             156         141                \n",
       "295 158085      FC Arouca                    174         160                \n",
       "296 177361      Termalica Bruk-Bet Nieciecza  NA          NA                \n",
       "297 188163      Tondela                       NA          NA                \n",
       "298 208931      Carpi                        190         160                \n",
       "299 274581      Royal Excel Mouscron         150         150                \n",
       "    sum_defence sum_goals\n",
       "1   175         280      \n",
       "2   137         126      \n",
       "3   210         287      \n",
       "4   155         138      \n",
       "5   160         372      \n",
       "6   175         184      \n",
       "7   205         235      \n",
       "8    NA          35      \n",
       "9    NA          27      \n",
       "10  165         180      \n",
       "11  200          31      \n",
       "12  151          34      \n",
       "13  155          28      \n",
       "14   NA          27      \n",
       "15  146          37      \n",
       "16  150         292      \n",
       "17  181         204      \n",
       "18   90          55      \n",
       "19  141          74      \n",
       "20  150         128      \n",
       "21  121          29      \n",
       "22   NA          38      \n",
       "23  164          24      \n",
       "24  165          99      \n",
       "25  138         119      \n",
       "26  210         165      \n",
       "27  205         220      \n",
       "28  153         248      \n",
       "29  150         167      \n",
       "30  177         300      \n",
       "⋮   ⋮           ⋮        \n",
       "270 156         332      \n",
       "271 151         240      \n",
       "272 173         366      \n",
       "273 106         154      \n",
       "274 150         153      \n",
       "275 183         470      \n",
       "276 184         492      \n",
       "277 154         392      \n",
       "278 160         489      \n",
       "279 140         238      \n",
       "280 140          71      \n",
       "281 163         468      \n",
       "282 210         344      \n",
       "283 200         259      \n",
       "284 145         335      \n",
       "285 163         582      \n",
       "286 161         324      \n",
       "287 150         398      \n",
       "288 205         332      \n",
       "289 175         484      \n",
       "290 158          65      \n",
       "291 175         415      \n",
       "292 160          36      \n",
       "293 161         170      \n",
       "294 158          21      \n",
       "295 113         101      \n",
       "296  NA          33      \n",
       "297  NA          34      \n",
       "298 141          37      \n",
       "299 140          71      "
      ]
     },
     "metadata": {},
     "output_type": "display_data"
    },
    {
     "data": {
      "text/html": [
       "299"
      ],
      "text/latex": [
       "299"
      ],
      "text/markdown": [
       "299"
      ],
      "text/plain": [
       "[1] 299"
      ]
     },
     "metadata": {},
     "output_type": "display_data"
    }
   ],
   "source": [
    "team_all_final <- inner_join(x =team_attr_with_sum,y =team_with_match_goals,by =  \"team_api_id\" )\n",
    "(data.frame(team_all_final))\n",
    "nrow(data.frame(team_all_final))"
   ]
  },
  {
   "cell_type": "code",
   "execution_count": 12,
   "metadata": {
    "collapsed": false
   },
   "outputs": [
    {
     "data": {
      "text/html": [
       "299"
      ],
      "text/latex": [
       "299"
      ],
      "text/markdown": [
       "299"
      ],
      "text/plain": [
       "[1] 299"
      ]
     },
     "metadata": {},
     "output_type": "display_data"
    }
   ],
   "source": [
    "nrow(data.frame(team_attr_with_sum))"
   ]
  },
  {
   "cell_type": "code",
   "execution_count": 13,
   "metadata": {
    "collapsed": true
   },
   "outputs": [],
   "source": [
    "# select(.data = team_attr_with_sum,team_api_id,buildUpPlaySpeed,buildUpPlayPassing,sum_buildup)#,chanceCreationPassing,chanceCreationCrossing,sum_chance_creation)\n",
    "# # data.frame(select(.data = team_attr_with_sum,team_api_id,chanceCreationPassing,chanceCreationCrossing,chanceCreationShooting,sum_chance_creation))\n",
    "# # select(.data = team_attr_with_sum,team_api_id,defencePressure,defenceAggression,defenceTeamWidth,sum_defence)"
   ]
  },
  {
   "cell_type": "code",
   "execution_count": 14,
   "metadata": {
    "collapsed": true
   },
   "outputs": [],
   "source": [
    "write.csv(file='/media/23e97447-9196-4c8e-be28-b24a49d2548e/home/jayaraj/Study/DIC/lab2/soccer_csv/team_final.csv', x=team_all_final)"
   ]
  },
  {
   "cell_type": "markdown",
   "metadata": {},
   "source": [
    "## <p><span style=\"color:blue\">  ----- csv for TEAM created ----  </span></p>"
   ]
  },
  {
   "cell_type": "markdown",
   "metadata": {},
   "source": [
    "## <p><span style=\"color:blue\">  Preprocessing player related columns. Once all the columns are ready, csv will be created.  </span></p>"
   ]
  },
  {
   "cell_type": "code",
   "execution_count": 15,
   "metadata": {
    "collapsed": true
   },
   "outputs": [],
   "source": [
    "player_tbl_with_app <- tbl(my_db, sql(\"SELECT player_api_id,player_name,COUNT(player_name) FROM (SELECT player_api_id,player_name FROM Player,Match WHERE Player.player_api_id\n",
    "= Match.home_player_1 UNION ALL SELECT player_api_id,player_name FROM Player,Match WHERE Player.player_api_id\n",
    "= Match.home_player_2 UNION ALL SELECT player_api_id,player_name FROM Player,Match WHERE Player.player_api_id\n",
    "= Match.home_player_3 UNION ALL SELECT player_api_id,player_name FROM Player,Match WHERE Player.player_api_id\n",
    "= Match.home_player_4 UNION ALL SELECT player_api_id,player_name FROM Player,Match WHERE Player.player_api_id\n",
    "= Match.home_player_5 UNION ALL SELECT player_api_id,player_name FROM Player,Match WHERE Player.player_api_id\n",
    "= Match.home_player_6 UNION ALL SELECT player_api_id,player_name FROM Player,Match WHERE Player.player_api_id\n",
    "= Match.home_player_7 UNION ALL SELECT player_api_id,player_name FROM Player,Match WHERE Player.player_api_id\n",
    "= Match.home_player_8 UNION ALL SELECT player_api_id,player_name FROM Player,Match WHERE Player.player_api_id\n",
    "= Match.home_player_9 UNION ALL SELECT player_api_id,player_name FROM Player,Match WHERE Player.player_api_id\n",
    "= Match.home_player_10 UNION ALL SELECT player_api_id,player_name FROM Player,Match WHERE Player.player_api_id\n",
    "= Match.home_player_11 UNION ALL SELECT player_api_id,player_name FROM Player,Match WHERE Player.player_api_id\n",
    "= Match.away_player_1 UNION ALL SELECT player_api_id,player_name FROM Player,Match WHERE Player.player_api_id\n",
    "= Match.away_player_2 UNION ALL SELECT player_api_id,player_name FROM Player,Match WHERE Player.player_api_id\n",
    "= Match.away_player_3 UNION ALL SELECT player_api_id,player_name FROM Player,Match WHERE Player.player_api_id\n",
    "= Match.away_player_4 UNION ALL SELECT player_api_id,player_name FROM Player,Match WHERE Player.player_api_id\n",
    "= Match.away_player_5 UNION ALL SELECT player_api_id,player_name FROM Player,Match WHERE Player.player_api_id\n",
    "= Match.away_player_6 UNION ALL SELECT player_api_id,player_name FROM Player,Match WHERE Player.player_api_id\n",
    "= Match.away_player_7 UNION ALL SELECT player_api_id,player_name FROM Player,Match WHERE Player.player_api_id\n",
    "= Match.away_player_8 UNION ALL SELECT player_api_id,player_name FROM Player,Match WHERE Player.player_api_id\n",
    "= Match.away_player_9 UNION ALL SELECT player_api_id,player_name FROM Player,Match WHERE Player.player_api_id\n",
    "= Match.away_player_10 UNION ALL SELECT player_api_id,player_name FROM Player,Match WHERE Player.player_api_id\n",
    "= Match.away_player_11) GROUP BY player_api_id,player_name\"))\n",
    "# SELECT * FROM Table1, Table2 WHERE Table1.id = Table2.id_table1 GROUP BY Table1.data1"
   ]
  },
  {
   "cell_type": "code",
   "execution_count": 16,
   "metadata": {
    "collapsed": true
   },
   "outputs": [],
   "source": [
    "player_tbl_with_app_and_league <- tbl(my_db, sql(\"SELECT player_api_id,player_name,COUNT(player_name) as appearances,COUNT(DISTINCT(league_id\n",
    ")) as league_count FROM (SELECT player_api_id,player_name,league_id FROM Player,Match WHERE Player.player_api_id\n",
    "= Match.home_player_1 UNION ALL SELECT player_api_id,player_name,league_id  FROM Player,Match WHERE Player.player_api_id\n",
    "= Match.home_player_2 UNION ALL SELECT player_api_id,player_name,league_id  FROM Player,Match WHERE Player.player_api_id\n",
    "= Match.home_player_3 UNION ALL SELECT player_api_id,player_name,league_id  FROM Player,Match WHERE Player.player_api_id\n",
    "= Match.home_player_4 UNION ALL SELECT player_api_id,player_name,league_id  FROM Player,Match WHERE Player.player_api_id\n",
    "= Match.home_player_5 UNION ALL SELECT player_api_id,player_name,league_id  FROM Player,Match WHERE Player.player_api_id\n",
    "= Match.home_player_6 UNION ALL SELECT player_api_id,player_name,league_id  FROM Player,Match WHERE Player.player_api_id\n",
    "= Match.home_player_7 UNION ALL SELECT player_api_id,player_name,league_id  FROM Player,Match WHERE Player.player_api_id\n",
    "= Match.home_player_8 UNION ALL SELECT player_api_id,player_name,league_id  FROM Player,Match WHERE Player.player_api_id\n",
    "= Match.home_player_9 UNION ALL SELECT player_api_id,player_name,league_id  FROM Player,Match WHERE Player.player_api_id\n",
    "= Match.home_player_10 UNION ALL SELECT player_api_id,player_name,league_id  FROM Player,Match WHERE Player.player_api_id\n",
    "= Match.home_player_11 UNION ALL SELECT player_api_id,player_name,league_id  FROM Player,Match WHERE Player.player_api_id\n",
    "= Match.away_player_1 UNION ALL SELECT player_api_id,player_name,league_id  FROM Player,Match WHERE Player.player_api_id\n",
    "= Match.away_player_2 UNION ALL SELECT player_api_id,player_name,league_id  FROM Player,Match WHERE Player.player_api_id\n",
    "= Match.away_player_3 UNION ALL SELECT player_api_id,player_name,league_id  FROM Player,Match WHERE Player.player_api_id\n",
    "= Match.away_player_4 UNION ALL SELECT player_api_id,player_name,league_id  FROM Player,Match WHERE Player.player_api_id\n",
    "= Match.away_player_5 UNION ALL SELECT player_api_id,player_name,league_id  FROM Player,Match WHERE Player.player_api_id\n",
    "= Match.away_player_6 UNION ALL SELECT player_api_id,player_name,league_id  FROM Player,Match WHERE Player.player_api_id\n",
    "= Match.away_player_7 UNION ALL SELECT player_api_id,player_name,league_id  FROM Player,Match WHERE Player.player_api_id\n",
    "= Match.away_player_8 UNION ALL SELECT player_api_id,player_name,league_id  FROM Player,Match WHERE Player.player_api_id\n",
    "= Match.away_player_9 UNION ALL SELECT player_api_id,player_name,league_id  FROM Player,Match WHERE Player.player_api_id\n",
    "= Match.away_player_10 UNION ALL SELECT player_api_id,player_name,league_id  FROM Player,Match WHERE Player.player_api_id\n",
    "= Match.away_player_11) GROUP BY player_api_id,player_name\"))\n",
    "# SELECT * FROM Table1, Table2 WHERE Table1.id = Table2.id_table1 GROUP BY Table1.data1"
   ]
  },
  {
   "cell_type": "code",
   "execution_count": 17,
   "metadata": {
    "collapsed": false
   },
   "outputs": [
    {
     "data": {
      "text/html": [
       "11060"
      ],
      "text/latex": [
       "11060"
      ],
      "text/markdown": [
       "11060"
      ],
      "text/plain": [
       "[1] 11060"
      ]
     },
     "metadata": {},
     "output_type": "display_data"
    },
    {
     "data": {
      "text/html": [
       "183978"
      ],
      "text/latex": [
       "183978"
      ],
      "text/markdown": [
       "183978"
      ],
      "text/plain": [
       "[1] 183978"
      ]
     },
     "metadata": {},
     "output_type": "display_data"
    }
   ],
   "source": [
    "nrow(data.frame(player_tbl))\n",
    "nrow(data.frame(player_attr_tbl))"
   ]
  },
  {
   "cell_type": "code",
   "execution_count": 18,
   "metadata": {
    "collapsed": true
   },
   "outputs": [],
   "source": [
    "player_sum_gk_and_over <- tbl(my_db,sql(\"SELECT Player.player_api_id,overall_rating,\n",
    "(gk_diving+gk_handling+gk_kicking+gk_positioning+gk_reflexes) as sum_gk from Player LEFT JOIN Player_Attributes ON \n",
    "Player.player_api_id = Player_Attributes.player_api_id\"))"
   ]
  },
  {
   "cell_type": "code",
   "execution_count": 19,
   "metadata": {
    "collapsed": true
   },
   "outputs": [],
   "source": [
    "# player_tbl_with_app_and_league\n",
    "player_appr_ovr_sum_gk_lg_cnt <- inner_join(x = player_sum_gk_and_over,y = player_tbl_with_app_and_league,by = \"player_api_id\" )"
   ]
  },
  {
   "cell_type": "code",
   "execution_count": 20,
   "metadata": {
    "collapsed": false,
    "scrolled": true
   },
   "outputs": [
    {
     "data": {
      "text/plain": [
       "Source:   query [?? x 6]\n",
       "Database: sqlite 3.11.1 [/media/23e97447-9196-4c8e-be28-b24a49d2548e/home/jayaraj/Study/DIC/database.sqlite]\n",
       "\n",
       "   player_api_id overall_rating sum_gk       player_name appearances\n",
       "           <int>          <int>  <int>             <chr>       <int>\n",
       "1           2625             58     45 Patryk Rachwal,18          90\n",
       "2           2625             58     45 Patryk Rachwal,18          90\n",
       "3           2625             58     45 Patryk Rachwal,18          90\n",
       "4           2625             58     45 Patryk Rachwal,18          90\n",
       "5           2625             59     45 Patryk Rachwal,18          90\n",
       "6           2625             60     45 Patryk Rachwal,18          90\n",
       "7           2625             60    153 Patryk Rachwal,18          90\n",
       "8           2625             61     45 Patryk Rachwal,18          90\n",
       "9           2625             61     45 Patryk Rachwal,18          90\n",
       "10          2625             61     45 Patryk Rachwal,18          90\n",
       "# ... with more rows, and 1 more variables: league_count <int>"
      ]
     },
     "metadata": {},
     "output_type": "display_data"
    }
   ],
   "source": [
    "player_appr_ovr_sum_gk_lg_cnt"
   ]
  },
  {
   "cell_type": "code",
   "execution_count": 21,
   "metadata": {
    "collapsed": false
   },
   "outputs": [
    {
     "data": {
      "text/html": [
       "183978"
      ],
      "text/latex": [
       "183978"
      ],
      "text/markdown": [
       "183978"
      ],
      "text/plain": [
       "[1] 183978"
      ]
     },
     "metadata": {},
     "output_type": "display_data"
    }
   ],
   "source": [
    "nrow(data.frame(player_appr_ovr_sum_gk_lg_cnt))"
   ]
  },
  {
   "cell_type": "code",
   "execution_count": 22,
   "metadata": {
    "collapsed": true
   },
   "outputs": [],
   "source": [
    "player_appr_ovr_sum_gk_lg_cnt_df <- data.frame(player_appr_ovr_sum_gk_lg_cnt)"
   ]
  },
  {
   "cell_type": "code",
   "execution_count": 23,
   "metadata": {
    "collapsed": true
   },
   "outputs": [],
   "source": [
    "write.csv(file='/media/23e97447-9196-4c8e-be28-b24a49d2548e/home/jayaraj/Study/DIC/lab2/soccer_csv/player_final.csv', x=player_appr_ovr_sum_gk_lg_cnt_df)"
   ]
  },
  {
   "cell_type": "markdown",
   "metadata": {},
   "source": [
    "## <p><span style=\"color:blue\">  CSV for Player related columns created.  </span></p>"
   ]
  },
  {
   "cell_type": "markdown",
   "metadata": {},
   "source": [
    "## <p><span style=\"color:blue\">  -----------Preprocessing done.-----------  </span></p>"
   ]
  },
  {
   "cell_type": "markdown",
   "metadata": {},
   "source": [
    "## <p><span style=\"color:blue\">----------Questions and answers in next notebook.---------</span></p>"
   ]
  },
  {
   "cell_type": "code",
   "execution_count": null,
   "metadata": {
    "collapsed": true
   },
   "outputs": [],
   "source": []
  }
 ],
 "metadata": {
  "kernelspec": {
   "display_name": "R",
   "language": "R",
   "name": "ir"
  },
  "language_info": {
   "codemirror_mode": "r",
   "file_extension": ".r",
   "mimetype": "text/x-r-source",
   "name": "R",
   "pygments_lexer": "r",
   "version": "3.3.2"
  }
 },
 "nbformat": 4,
 "nbformat_minor": 2
}
